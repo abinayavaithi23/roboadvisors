{
 "cells": [
  {
   "cell_type": "code",
   "execution_count": 127,
   "id": "cce2c165",
   "metadata": {},
   "outputs": [],
   "source": [
    "import os\n",
    "os.getcwd()\n",
    "os.chdir('C:/Users/payal/OneDrive/Documents/595')\n",
    "from gettext import install\n",
    "import pandas_datareader.data as web \n",
    "import pandas as pd \n",
    "import matplotlib.pyplot as plt \n",
    "import numpy as np \n",
    "pd.core.common.is_list_like = pd.api.types.is_list_like\n",
    "import datetime as dt\n",
    "from scipy.optimize import minimize \n",
    "from cvxpy import * \n",
    "import cvxopt as opt\n",
    "from cvxopt import blas, solvers\n",
    "pd.set_option('display.float_format', lambda x: '%.3f' % x)\n",
    "np.set_printoptions(suppress=True)"
   ]
  },
  {
   "cell_type": "markdown",
   "id": "18769aa8",
   "metadata": {},
   "source": [
    "# Building a Robo Advisor"
   ]
  },
  {
   "cell_type": "markdown",
   "id": "028cdc3b",
   "metadata": {},
   "source": [
    "### Submitted by: Abhinaya Vaithianathan, Bhavi Kavedia, Khyati Joshi, Payal Motwani"
   ]
  },
  {
   "cell_type": "markdown",
   "id": "d4d2f47b",
   "metadata": {},
   "source": [
    "Robo-advisors automate investment management by using computer algorithms to build a portfolio and manage assets based on one's goals and risk tolerance."
   ]
  },
  {
   "cell_type": "markdown",
   "id": "fa27bfbf",
   "metadata": {},
   "source": [
    "## Whitepaper Summary\n",
    "\n",
    "After reading both the articles and their strategies we think that betterment has a few limitations as compared to the Wealthfront. Betterment definitely has very good and efficient portfolio strategies, but it can be still much better if we look at Wealthfront’s article and the strategies, the follow-up strategies of that one goes a long way to assist the investors even after the portfolio has been made and applied in the market while betterment lacks that part and can be a limitation. \n",
    "\n",
    " Also, Betterment’s focus on handling small accounts is almost null while Wealthfront focuses both on big as well as small accounts, which is great to serve all types of investors. Along with this Betterment and Wealthfront have quite diverse ways of finding out the risk tolerance of their client. Wealthfront has 40 portfolios, taxable and retirement accounts combined, Betterment has 101 individualized portfolios, and more asset classes compared to betterment, excluded Real Estate, and Commodities. e Betterment has portfolio optimization methods that enable the Betterment Portfolio Strategy to contain 101 different portfolios and a way to utilize the Capital Asset Pricing Model (CAPM) along with a utility function which allows them to optimize for the portfolio with a higher return for the risk that the investor is willing to accept along with asking them questions regarding their risk tolerance. Rather than asking the typical 25 questions asked by financial advisors to identify an individual’s risk tolerance, Wealthfront combed behavioral economics research to simplify their risk identification process to only a few questions. They ask subjective risk questions to determine both the level of risk an individual is willing to take and the consistency among their answers along with regular follow-up on their portfolios along with market changes, which we think is effective. So, if Betterment can overcome these limitations as mentioned above by us along with the comparisons in both models, we think there is a great scope for further improving their efficiency.\n"
   ]
  },
  {
   "cell_type": "markdown",
   "id": "6581382f",
   "metadata": {},
   "source": [
    "## Asset Selection\n",
    "A portfolio is a blend of assets in proportion that minimizes risk and maximizes returns. For this we will be considering four different classes, US stocks, Treasury bonds, Corporate bonds and Real estate ETFs. \n",
    "\n",
    "### US Stocks   \n",
    "A stock is a type of security that denotes the holder's ownership stake in the issuing company and is typically traded on stock markets. US stocks are the cornerstone of the portfolios of many individual investors and are mostly bought and sold on stock exchanges. Equities are a core part of portfolio, though they are higly volatile but provide inflation protected returns for alpha in the portfolio. For Us stocks, we seek to find an ETF to match the performance of the S&P 500 Index.\n",
    "Here is the table of three best ETFs\n",
    "\n"
   ]
  },
  {
   "cell_type": "code",
   "execution_count": 3,
   "id": "81ce4f89",
   "metadata": {
    "scrolled": true
   },
   "outputs": [
    {
     "data": {
      "text/html": [
       "<div>\n",
       "<style scoped>\n",
       "    .dataframe tbody tr th:only-of-type {\n",
       "        vertical-align: middle;\n",
       "    }\n",
       "\n",
       "    .dataframe tbody tr th {\n",
       "        vertical-align: top;\n",
       "    }\n",
       "\n",
       "    .dataframe thead th {\n",
       "        text-align: right;\n",
       "    }\n",
       "</style>\n",
       "<table border=\"1\" class=\"dataframe\">\n",
       "  <thead>\n",
       "    <tr style=\"text-align: right;\">\n",
       "      <th></th>\n",
       "      <th>Ticker</th>\n",
       "      <th>Name</th>\n",
       "      <th>AUM</th>\n",
       "      <th>Exp Ratio</th>\n",
       "      <th>Div yield</th>\n",
       "      <th>YTD rtn</th>\n",
       "      <th>10Y</th>\n",
       "      <th>5Y</th>\n",
       "      <th>1Y</th>\n",
       "    </tr>\n",
       "  </thead>\n",
       "  <tbody>\n",
       "    <tr>\n",
       "      <th>0</th>\n",
       "      <td>SPY</td>\n",
       "      <td>SPDR SP 500 ETF Trust</td>\n",
       "      <td>364371000</td>\n",
       "      <td>0.90</td>\n",
       "      <td>1.73</td>\n",
       "      <td>-18.01</td>\n",
       "      <td>12.64</td>\n",
       "      <td>12.24</td>\n",
       "      <td>-14.20</td>\n",
       "    </tr>\n",
       "    <tr>\n",
       "      <th>1</th>\n",
       "      <td>IVV</td>\n",
       "      <td>iShares Core SP 500 ETF</td>\n",
       "      <td>291209000</td>\n",
       "      <td>0.30</td>\n",
       "      <td>1.72</td>\n",
       "      <td>-18.01</td>\n",
       "      <td>12.70</td>\n",
       "      <td>12.29</td>\n",
       "      <td>-14.19</td>\n",
       "    </tr>\n",
       "    <tr>\n",
       "      <th>2</th>\n",
       "      <td>VOO</td>\n",
       "      <td>Vanguard SP 500 ETF</td>\n",
       "      <td>262430000</td>\n",
       "      <td>0.03</td>\n",
       "      <td>1.77</td>\n",
       "      <td>-18.03</td>\n",
       "      <td>12.70</td>\n",
       "      <td>12.28</td>\n",
       "      <td>-14.22</td>\n",
       "    </tr>\n",
       "  </tbody>\n",
       "</table>\n",
       "</div>"
      ],
      "text/plain": [
       "  Ticker                     Name        AUM  Exp Ratio  Div yield  YTD rtn  \\\n",
       "0    SPY    SPDR SP 500 ETF Trust  364371000       0.90       1.73   -18.01   \n",
       "1    IVV  iShares Core SP 500 ETF  291209000       0.30       1.72   -18.01   \n",
       "2    VOO      Vanguard SP 500 ETF  262430000       0.03       1.77   -18.03   \n",
       "\n",
       "     10Y     5Y     1Y  \n",
       "0  12.64  12.24 -14.20  \n",
       "1  12.70  12.29 -14.19  \n",
       "2  12.70  12.28 -14.22  "
      ]
     },
     "execution_count": 3,
     "metadata": {},
     "output_type": "execute_result"
    }
   ],
   "source": [
    "data =[['SPY','SPDR SP 500 ETF Trust', 364371000,0.9, 1.73,-18.01,12.64,12.24,-14.20], \n",
    "       ['IVV','iShares Core SP 500 ETF',291209000,0.3,1.72,-18.01,12.70,12.29,-14.19],\n",
    "      ['VOO','Vanguard SP 500 ETF',262430000,0.03,1.77,-18.03,12.7,12.28,-14.22]]\n",
    "import pandas as pd\n",
    "us_stocks = pd.DataFrame(data, columns=['Ticker','Name', 'AUM','Exp Ratio','Div yield','YTD rtn','10Y','5Y','1Y'])\n",
    "us_stocks"
   ]
  },
  {
   "cell_type": "markdown",
   "id": "d807b6fc",
   "metadata": {},
   "source": [
    "For the selection criteria, certain leveraged and actively managed funds were ruled out because they frequently charge higher cost ratios without providing superior returns or higher dividend yields. The focus was on those funds that offered a combination of low expense ratios and performance that have exceeded the returns of the S&P 500 Index. \n",
    "Expense ratio is the most key factor since any expenses are the direct deduction from the return of the ETF which has compounding effect over the year. It is always a particularly worthwhile investment choice to have ETFs with higher funds. Liquidity is another factor to be considered funds with higher average trading volumes are more liquid and vice versa for funds with lower trading volumes. \n",
    "Tracking error tracks the fluctation between assets returns and benchmark index's return. For US stocks we have consider S&P 500 index. and computed tracking error as below"
   ]
  },
  {
   "cell_type": "code",
   "execution_count": 23,
   "id": "c3208ba7",
   "metadata": {},
   "outputs": [
    {
     "name": "stdout",
     "output_type": "stream",
     "text": [
      "SPX - SPY tracking error is : 0.0007585660656355252\n",
      "SPX - IVV tracking error is : 0.0007022100417493997\n",
      "SPX - VOO tracking error is : 0.000617981182264078\n"
     ]
    }
   ],
   "source": [
    "\n",
    "def download_etf(symbol,source,start_date='2010-01-01',end_date='2022-10-01'):\n",
    "    '''\n",
    "    symbol: \"SPX\"  \n",
    "    source: \"stooq\"   \n",
    "    start_date: ... \n",
    "    end_date: ... \n",
    "\n",
    "    return: data (pd.DataFrame)\n",
    "    '''\n",
    "    data = web.DataReader(symbol,source,start=start_date,end=end_date) \n",
    "    data = data.sort_index() \n",
    "\n",
    "    return data \n",
    "\n",
    "def download_etfs(symbols,source,start_date='2010-01-01',end_date='2022-10-01'):  \n",
    "    '''\n",
    "    symbols is a list of ETF symbols\n",
    "\n",
    "    symbols = ['SPY','IVV','VOO'] \n",
    "    '''\n",
    "    \n",
    "    dfs = [] # empty list of pandas dataframes \n",
    "\n",
    "    for sym in symbols: \n",
    "        df = download_etf(sym,source,start_date=start_date,end_date=end_date)\n",
    "        tmpdf = df['Close']\n",
    "        dfs.append(tmpdf)  \n",
    "\n",
    "    df = pd.concat(dfs,axis=1) \n",
    "    df.columns = symbols \n",
    "\n",
    "    return df \n",
    "\n",
    "def annual_returns(symbol):\n",
    "    data = download_etf(symbol,\"stooq\", start_date, end_date)\n",
    "    \n",
    "\n",
    "def tracking_error(index,etf): \n",
    "    '''\n",
    "    index, etf: pandas dataframes of returns with dates that are aligned \n",
    "    '''\n",
    "\n",
    "    n = len(index) \n",
    "\n",
    "    tracking_error = np.sqrt(sum((index - etf)**2)/(n-1))\n",
    "\n",
    "    return tracking_error \n",
    "\n",
    "\n",
    "\n",
    "\n",
    "if __name__ == \"__main__\": \n",
    "    symbols = [\"^SPX\",\"SPY\",\"IVV\",\"VOO\"]  \n",
    "\n",
    "    source = 'stooq' \n",
    "    start_date = '2010-01-01' \n",
    "    end_date = '2022-10-01'\n",
    "    \n",
    "    data = download_etfs(symbols,source,start_date=start_date,end_date=end_date)  \n",
    "\n",
    "    rtndf = data.pct_change().dropna()\n",
    "\n",
    "    # \n",
    "    spxspy_te = tracking_error(rtndf['^SPX'],rtndf['SPY']) \n",
    "    #print(\"SPX - SPY tracking error is : {}\".format(spxspy_te))\n",
    "    spxivv_te = tracking_error(rtndf['^SPX'],rtndf['IVV']) \n",
    "    #print(\"SPX - IVV tracking error is : {}\".format(spxivv_te))\n",
    "    spxvoo_te = tracking_error(rtndf['^SPX'],rtndf['VOO']) \n",
    "    #print(\"SPX - VOO tracking error is : {}\".format(spxvoo_te))\n"
   ]
  },
  {
   "cell_type": "code",
   "execution_count": 25,
   "id": "b17ccb31",
   "metadata": {},
   "outputs": [
    {
     "data": {
      "text/html": [
       "<div>\n",
       "<style scoped>\n",
       "    .dataframe tbody tr th:only-of-type {\n",
       "        vertical-align: middle;\n",
       "    }\n",
       "\n",
       "    .dataframe tbody tr th {\n",
       "        vertical-align: top;\n",
       "    }\n",
       "\n",
       "    .dataframe thead th {\n",
       "        text-align: right;\n",
       "    }\n",
       "</style>\n",
       "<table border=\"1\" class=\"dataframe\">\n",
       "  <thead>\n",
       "    <tr style=\"text-align: right;\">\n",
       "      <th></th>\n",
       "      <th>Annualized Returns(%)</th>\n",
       "      <th>Annualized Volatility(%)</th>\n",
       "      <th>Sharpe Ratio</th>\n",
       "      <th>Tracking error</th>\n",
       "      <th>Expense ratio</th>\n",
       "    </tr>\n",
       "  </thead>\n",
       "  <tbody>\n",
       "    <tr>\n",
       "      <th>^SPX</th>\n",
       "      <td>0.111992</td>\n",
       "      <td>0.174958</td>\n",
       "      <td>0.640107</td>\n",
       "      <td>0.000000</td>\n",
       "      <td>0.00</td>\n",
       "    </tr>\n",
       "    <tr>\n",
       "      <th>SPY</th>\n",
       "      <td>0.129180</td>\n",
       "      <td>0.172908</td>\n",
       "      <td>0.747105</td>\n",
       "      <td>0.000759</td>\n",
       "      <td>0.90</td>\n",
       "    </tr>\n",
       "    <tr>\n",
       "      <th>IVV</th>\n",
       "      <td>0.129736</td>\n",
       "      <td>0.174712</td>\n",
       "      <td>0.742571</td>\n",
       "      <td>0.000702</td>\n",
       "      <td>0.03</td>\n",
       "    </tr>\n",
       "    <tr>\n",
       "      <th>VOO</th>\n",
       "      <td>0.129789</td>\n",
       "      <td>0.174434</td>\n",
       "      <td>0.744060</td>\n",
       "      <td>0.000618</td>\n",
       "      <td>0.03</td>\n",
       "    </tr>\n",
       "  </tbody>\n",
       "</table>\n",
       "</div>"
      ],
      "text/plain": [
       "      Annualized Returns(%)  Annualized Volatility(%)  Sharpe Ratio  \\\n",
       "^SPX               0.111992                  0.174958      0.640107   \n",
       "SPY                0.129180                  0.172908      0.747105   \n",
       "IVV                0.129736                  0.174712      0.742571   \n",
       "VOO                0.129789                  0.174434      0.744060   \n",
       "\n",
       "      Tracking error  Expense ratio  \n",
       "^SPX        0.000000           0.00  \n",
       "SPY         0.000759           0.90  \n",
       "IVV         0.000702           0.03  \n",
       "VOO         0.000618           0.03  "
      ]
     },
     "execution_count": 25,
     "metadata": {},
     "output_type": "execute_result"
    }
   ],
   "source": [
    "stats = pd.DataFrame()\n",
    "stats['Annualized Returns(%)'] = rtndf.mean() * 252\n",
    "stats['Annualized Volatility(%)'] = rtndf.std() * np.sqrt(252)\n",
    "stats['Sharpe Ratio'] = stats['Annualized Returns(%)'] /stats['Annualized Volatility(%)']\n",
    "stats['Tracking error'] = [0,spxspy_te,spxivv_te,spxvoo_te]\n",
    "stats['Expense ratio'] = [0,0.9,0.03,0.03]\n",
    "stats"
   ]
  },
  {
   "cell_type": "markdown",
   "id": "5b2b11a4",
   "metadata": {},
   "source": [
    "VOO- Vanguard S&P 500 has lowest tracking error, expense ratio and comparatively better sharpe ratio, therefore we selected VOO for US stocks representative in our portfolio\n",
    "\n",
    "### Treasury Bonds\n",
    "Treasuries are debt obligations issued and backed by the full faith and credit of the US government. Treasury bonds ETFs primarily invest in these debt obligations issued by US government. Treasury bonds tend to give cushion against high-risk investments, they add as risk free investment portion of the portfolio.  For the analysis perspective, we decided to focus on ETFs that invest in bonds with maturity of 10-20 years.\n"
   ]
  },
  {
   "cell_type": "code",
   "execution_count": 29,
   "id": "2e276cbb",
   "metadata": {
    "scrolled": true
   },
   "outputs": [
    {
     "data": {
      "text/html": [
       "<div>\n",
       "<style scoped>\n",
       "    .dataframe tbody tr th:only-of-type {\n",
       "        vertical-align: middle;\n",
       "    }\n",
       "\n",
       "    .dataframe tbody tr th {\n",
       "        vertical-align: top;\n",
       "    }\n",
       "\n",
       "    .dataframe thead th {\n",
       "        text-align: right;\n",
       "    }\n",
       "</style>\n",
       "<table border=\"1\" class=\"dataframe\">\n",
       "  <thead>\n",
       "    <tr style=\"text-align: right;\">\n",
       "      <th></th>\n",
       "      <th>Ticker</th>\n",
       "      <th>Name</th>\n",
       "      <th>Exp Ratio</th>\n",
       "      <th>AUM</th>\n",
       "      <th>Diversification</th>\n",
       "      <th>Avg duration</th>\n",
       "      <th>YTM</th>\n",
       "      <th>Avg 5Y rtn</th>\n",
       "    </tr>\n",
       "  </thead>\n",
       "  <tbody>\n",
       "    <tr>\n",
       "      <th>0</th>\n",
       "      <td>SPTL</td>\n",
       "      <td>SPDR Portfolio Long Term Treasury ETF</td>\n",
       "      <td>0.06</td>\n",
       "      <td>4.7 Bn</td>\n",
       "      <td>Fairly diversified – 77 holdings</td>\n",
       "      <td>16.09</td>\n",
       "      <td>4.33</td>\n",
       "      <td>-1.67</td>\n",
       "    </tr>\n",
       "    <tr>\n",
       "      <th>1</th>\n",
       "      <td>VGLT</td>\n",
       "      <td>Vanguard Long-Term Treasury ETF</td>\n",
       "      <td>0.04</td>\n",
       "      <td>7.1 Bn</td>\n",
       "      <td>Fairly diversified – 70 holdings</td>\n",
       "      <td>16.30</td>\n",
       "      <td>4.00</td>\n",
       "      <td>-1.67</td>\n",
       "    </tr>\n",
       "    <tr>\n",
       "      <th>2</th>\n",
       "      <td>SCHQ</td>\n",
       "      <td>Schwab Long-Term U.S. Treasury ETF</td>\n",
       "      <td>0.03</td>\n",
       "      <td>121 Mn</td>\n",
       "      <td>Fairly diversified – 72 holdings</td>\n",
       "      <td>16.30</td>\n",
       "      <td>4.00</td>\n",
       "      <td>-1.67</td>\n",
       "    </tr>\n",
       "    <tr>\n",
       "      <th>3</th>\n",
       "      <td>TLT</td>\n",
       "      <td>Ishares 20+ Year Treasury Bond</td>\n",
       "      <td>0.15</td>\n",
       "      <td>24 Bn</td>\n",
       "      <td>35 holdings</td>\n",
       "      <td>17.11</td>\n",
       "      <td>4.38</td>\n",
       "      <td>-1.88</td>\n",
       "    </tr>\n",
       "  </tbody>\n",
       "</table>\n",
       "</div>"
      ],
      "text/plain": [
       "  Ticker                                   Name  Exp Ratio     AUM  \\\n",
       "0   SPTL  SPDR Portfolio Long Term Treasury ETF       0.06  4.7 Bn   \n",
       "1   VGLT        Vanguard Long-Term Treasury ETF       0.04  7.1 Bn   \n",
       "2   SCHQ     Schwab Long-Term U.S. Treasury ETF       0.03  121 Mn   \n",
       "3    TLT         Ishares 20+ Year Treasury Bond       0.15   24 Bn   \n",
       "\n",
       "                    Diversification  Avg duration   YTM   Avg 5Y rtn  \n",
       "0  Fairly diversified – 77 holdings         16.09  4.33        -1.67  \n",
       "1  Fairly diversified – 70 holdings         16.30  4.00        -1.67  \n",
       "2  Fairly diversified – 72 holdings         16.30  4.00        -1.67  \n",
       "3                       35 holdings         17.11  4.38        -1.88  "
      ]
     },
     "execution_count": 29,
     "metadata": {},
     "output_type": "execute_result"
    }
   ],
   "source": [
    "data = [['SPTL','SPDR Portfolio Long Term Treasury ETF',0.06,'4.7 Bn','Fairly diversified – 77 holdings',16.09,4.33,-1.67],\n",
    "        ['VGLT','Vanguard Long-Term Treasury ETF',0.04,'7.1 Bn', 'Fairly diversified – 70 holdings',16.3,4,-1.67],\n",
    "        ['SCHQ','Schwab Long-Term U.S. Treasury ETF',0.03,'121 Mn','Fairly diversified – 72 holdings',16.3,4,-1.67],\n",
    "        ['TLT','Ishares 20+ Year Treasury Bond',0.15,'24 Bn', '35 holdings',17.11,4.38,-1.88]]\n",
    "\n",
    "tbond = pd.DataFrame(data, columns=['Ticker','Name', 'Exp Ratio', 'AUM','Diversification','Avg duration','YTM',\n",
    "                                    ' Avg 5Y rtn'])\n",
    "tbond\n"
   ]
  },
  {
   "cell_type": "code",
   "execution_count": 34,
   "id": "34da604b",
   "metadata": {},
   "outputs": [
    {
     "data": {
      "text/html": [
       "<div>\n",
       "<style scoped>\n",
       "    .dataframe tbody tr th:only-of-type {\n",
       "        vertical-align: middle;\n",
       "    }\n",
       "\n",
       "    .dataframe tbody tr th {\n",
       "        vertical-align: top;\n",
       "    }\n",
       "\n",
       "    .dataframe thead th {\n",
       "        text-align: right;\n",
       "    }\n",
       "</style>\n",
       "<table border=\"1\" class=\"dataframe\">\n",
       "  <thead>\n",
       "    <tr style=\"text-align: right;\">\n",
       "      <th></th>\n",
       "      <th>Annualized Returns(%)</th>\n",
       "      <th>Annualized Volatility(%)</th>\n",
       "      <th>Sharpe Ratio</th>\n",
       "      <th>Expense ratio</th>\n",
       "    </tr>\n",
       "  </thead>\n",
       "  <tbody>\n",
       "    <tr>\n",
       "      <th>SPTL</th>\n",
       "      <td>0.043288</td>\n",
       "      <td>0.166634</td>\n",
       "      <td>0.259779</td>\n",
       "      <td>0.06</td>\n",
       "    </tr>\n",
       "    <tr>\n",
       "      <th>VGLT</th>\n",
       "      <td>0.044031</td>\n",
       "      <td>0.162879</td>\n",
       "      <td>0.270332</td>\n",
       "      <td>0.04</td>\n",
       "    </tr>\n",
       "    <tr>\n",
       "      <th>SCHQ</th>\n",
       "      <td>0.043415</td>\n",
       "      <td>0.165266</td>\n",
       "      <td>0.262700</td>\n",
       "      <td>0.03</td>\n",
       "    </tr>\n",
       "    <tr>\n",
       "      <th>TLT</th>\n",
       "      <td>0.048850</td>\n",
       "      <td>0.176764</td>\n",
       "      <td>0.276357</td>\n",
       "      <td>0.15</td>\n",
       "    </tr>\n",
       "  </tbody>\n",
       "</table>\n",
       "</div>"
      ],
      "text/plain": [
       "      Annualized Returns(%)  Annualized Volatility(%)  Sharpe Ratio  \\\n",
       "SPTL               0.043288                  0.166634      0.259779   \n",
       "VGLT               0.044031                  0.162879      0.270332   \n",
       "SCHQ               0.043415                  0.165266      0.262700   \n",
       "TLT                0.048850                  0.176764      0.276357   \n",
       "\n",
       "      Expense ratio  \n",
       "SPTL           0.06  \n",
       "VGLT           0.04  \n",
       "SCHQ           0.03  \n",
       "TLT            0.15  "
      ]
     },
     "execution_count": 34,
     "metadata": {},
     "output_type": "execute_result"
    }
   ],
   "source": [
    "t_sym = [\"SPTL\",\"VGLT\",\"SCHQ\",\"TLT\"]\n",
    "tbonds = download_etfs(t_sym, \"stooq\",\"2011-01-01\",\"2021-12-31\")\n",
    "tbond_rtn = tbonds.pct_change().dropna()\n",
    "tbond_stats = pd.DataFrame()\n",
    "tbond_stats['Annualized Returns(%)'] = tbond_rtn.mean() * 252\n",
    "tbond_stats['Annualized Volatility(%)'] = tbond_rtn.std() * np.sqrt(252)\n",
    "tbond_stats['Sharpe Ratio'] = tbond_stats['Annualized Returns(%)'] /tbond_stats['Annualized Volatility(%)']\n",
    "tbond_stats['Expense ratio'] = [0.06,0.04,0.03,0.15]\n",
    "tbond_stats\n"
   ]
  },
  {
   "cell_type": "markdown",
   "id": "a43b1f5a",
   "metadata": {},
   "source": [
    "TLT and VGLT both have highest sharpe ratio, expense ratio of VGLT is much lesser than TLT. We select TLT for treasury bonds.\n",
    "\n",
    "### Corporate Bonds\n",
    "Corporate bond portfolios focus on investment-grade bonds issued by businesses in US dollars, which often carry a higher level of credit risk than bonds backed by the government or an agency. Corporate bond funds' underlying assets are various types of debt, such as outstanding corporate debt or commercial debt like mortgages or private school loans. Corporate bonds are better than treasury bonds in terms of return with almost some risk exposure.\n"
   ]
  },
  {
   "cell_type": "code",
   "execution_count": 35,
   "id": "52690e2c",
   "metadata": {},
   "outputs": [
    {
     "data": {
      "text/html": [
       "<div>\n",
       "<style scoped>\n",
       "    .dataframe tbody tr th:only-of-type {\n",
       "        vertical-align: middle;\n",
       "    }\n",
       "\n",
       "    .dataframe tbody tr th {\n",
       "        vertical-align: top;\n",
       "    }\n",
       "\n",
       "    .dataframe thead th {\n",
       "        text-align: right;\n",
       "    }\n",
       "</style>\n",
       "<table border=\"1\" class=\"dataframe\">\n",
       "  <thead>\n",
       "    <tr style=\"text-align: right;\">\n",
       "      <th></th>\n",
       "      <th>Annualized Returns(%)</th>\n",
       "      <th>Annualized Volatility(%)</th>\n",
       "      <th>Sharpe Ratio</th>\n",
       "      <th>Expense ratio</th>\n",
       "    </tr>\n",
       "  </thead>\n",
       "  <tbody>\n",
       "    <tr>\n",
       "      <th>VCSH</th>\n",
       "      <td>0.025942</td>\n",
       "      <td>0.028548</td>\n",
       "      <td>0.908701</td>\n",
       "      <td>0.04</td>\n",
       "    </tr>\n",
       "    <tr>\n",
       "      <th>VCIT</th>\n",
       "      <td>0.047991</td>\n",
       "      <td>0.052084</td>\n",
       "      <td>0.921412</td>\n",
       "      <td>0.04</td>\n",
       "    </tr>\n",
       "    <tr>\n",
       "      <th>LQD</th>\n",
       "      <td>0.051067</td>\n",
       "      <td>0.072006</td>\n",
       "      <td>0.709205</td>\n",
       "      <td>0.14</td>\n",
       "    </tr>\n",
       "    <tr>\n",
       "      <th>HYG</th>\n",
       "      <td>0.050131</td>\n",
       "      <td>0.083795</td>\n",
       "      <td>0.598256</td>\n",
       "      <td>0.48</td>\n",
       "    </tr>\n",
       "    <tr>\n",
       "      <th>VCLT</th>\n",
       "      <td>0.073961</td>\n",
       "      <td>0.111611</td>\n",
       "      <td>0.662673</td>\n",
       "      <td>0.04</td>\n",
       "    </tr>\n",
       "  </tbody>\n",
       "</table>\n",
       "</div>"
      ],
      "text/plain": [
       "      Annualized Returns(%)  Annualized Volatility(%)  Sharpe Ratio  \\\n",
       "VCSH               0.025942                  0.028548      0.908701   \n",
       "VCIT               0.047991                  0.052084      0.921412   \n",
       "LQD                0.051067                  0.072006      0.709205   \n",
       "HYG                0.050131                  0.083795      0.598256   \n",
       "VCLT               0.073961                  0.111611      0.662673   \n",
       "\n",
       "      Expense ratio  \n",
       "VCSH           0.04  \n",
       "VCIT           0.04  \n",
       "LQD            0.14  \n",
       "HYG            0.48  \n",
       "VCLT           0.04  "
      ]
     },
     "execution_count": 35,
     "metadata": {},
     "output_type": "execute_result"
    }
   ],
   "source": [
    "c_sym = [\"VCSH\",\"VCIT\",\"LQD\",\"HYG\",\"VCLT\"]\n",
    "cbonds = download_etfs(c_sym, \"stooq\",\"2011-01-01\",\"2021-12-31\")\n",
    "cbond_rtn = cbonds.pct_change().dropna()\n",
    "cbond_stats = pd.DataFrame()\n",
    "cbond_stats['Annualized Returns(%)'] = cbond_rtn.mean() * 252\n",
    "cbond_stats['Annualized Volatility(%)'] = cbond_rtn.std() * np.sqrt(252)\n",
    "cbond_stats['Sharpe Ratio'] = cbond_stats['Annualized Returns(%)'] /cbond_stats['Annualized Volatility(%)']\n",
    "cbond_stats['Expense ratio'] = [0.04,0.04,0.14,0.48,0.04]\n",
    "cbond_stats"
   ]
  },
  {
   "cell_type": "markdown",
   "id": "588b8142",
   "metadata": {},
   "source": [
    "VCIT- Vanguard Intermediate-Term Corporate Bond Index Fund has the highest sharpe ratio with lowest expense ratio. Hence we chose VCIT for corporate bond etfs\n",
    "\n",
    "### Real Estate ETFs REITS\n",
    "Real estate ETFs have broad exposure to the real estate market. These ETFs invest in REITs, real estate service firms and real estate development companies. They pay out their rents as dividends to investors. REITs provide income, inflation protection, and diversification benefits.With 52 ETFs traded on the U.S. markets, Real Estate ETFs have total assets under management of $49.18B. The average expense ratio is 0.49%\n",
    "\n"
   ]
  },
  {
   "cell_type": "code",
   "execution_count": 44,
   "id": "9137df0f",
   "metadata": {},
   "outputs": [
    {
     "data": {
      "text/html": [
       "<div>\n",
       "<style scoped>\n",
       "    .dataframe tbody tr th:only-of-type {\n",
       "        vertical-align: middle;\n",
       "    }\n",
       "\n",
       "    .dataframe tbody tr th {\n",
       "        vertical-align: top;\n",
       "    }\n",
       "\n",
       "    .dataframe thead th {\n",
       "        text-align: right;\n",
       "    }\n",
       "</style>\n",
       "<table border=\"1\" class=\"dataframe\">\n",
       "  <thead>\n",
       "    <tr style=\"text-align: right;\">\n",
       "      <th></th>\n",
       "      <th>Annualized Returns(%)</th>\n",
       "      <th>Annualized Volatility(%)</th>\n",
       "      <th>Sharpe Ratio</th>\n",
       "      <th>Expense ratio</th>\n",
       "    </tr>\n",
       "  </thead>\n",
       "  <tbody>\n",
       "    <tr>\n",
       "      <th>REZ</th>\n",
       "      <td>0.138592</td>\n",
       "      <td>0.208798</td>\n",
       "      <td>0.663763</td>\n",
       "      <td>0.48</td>\n",
       "    </tr>\n",
       "    <tr>\n",
       "      <th>ICF</th>\n",
       "      <td>0.126167</td>\n",
       "      <td>0.202485</td>\n",
       "      <td>0.623093</td>\n",
       "      <td>0.32</td>\n",
       "    </tr>\n",
       "    <tr>\n",
       "      <th>VNQ</th>\n",
       "      <td>0.125532</td>\n",
       "      <td>0.200747</td>\n",
       "      <td>0.625324</td>\n",
       "      <td>0.12</td>\n",
       "    </tr>\n",
       "    <tr>\n",
       "      <th>IYR</th>\n",
       "      <td>0.119730</td>\n",
       "      <td>0.194341</td>\n",
       "      <td>0.616082</td>\n",
       "      <td>0.39</td>\n",
       "    </tr>\n",
       "  </tbody>\n",
       "</table>\n",
       "</div>"
      ],
      "text/plain": [
       "     Annualized Returns(%)  Annualized Volatility(%)  Sharpe Ratio  \\\n",
       "REZ               0.138592                  0.208798      0.663763   \n",
       "ICF               0.126167                  0.202485      0.623093   \n",
       "VNQ               0.125532                  0.200747      0.625324   \n",
       "IYR               0.119730                  0.194341      0.616082   \n",
       "\n",
       "     Expense ratio  \n",
       "REZ           0.48  \n",
       "ICF           0.32  \n",
       "VNQ           0.12  \n",
       "IYR           0.39  "
      ]
     },
     "execution_count": 44,
     "metadata": {},
     "output_type": "execute_result"
    }
   ],
   "source": [
    "r_sym = [\"REZ\", \"ICF\",\"VNQ\",\"IYR\"]\n",
    "rbonds = download_etfs(r_sym, \"stooq\",\"2011-01-01\",\"2021-12-31\")\n",
    "rbond_rtn = rbonds.pct_change().dropna()\n",
    "rbond_stats = pd.DataFrame()\n",
    "rbond_stats['Annualized Returns(%)'] = rbond_rtn.mean() * 252\n",
    "rbond_stats['Annualized Volatility(%)'] = rbond_rtn.std() * np.sqrt(252)\n",
    "rbond_stats['Sharpe Ratio'] = rbond_stats['Annualized Returns(%)'] /rbond_stats['Annualized Volatility(%)']\n",
    "rbond_stats['Expense ratio'] = [0.48,0.32,0.12,0.39]\n",
    "rbond_stats"
   ]
  },
  {
   "cell_type": "markdown",
   "id": "0106f446",
   "metadata": {},
   "source": [
    "We see that REZ's sharpe ratio is better than VNQ, but expenses ratio of VNQ is the lowest and volaitility is almost same. REITs add a portion of inflation edge along with the risk, hence we decided to take REZ in portfolio considering best sharpe ratio\n",
    "\n",
    "## Asset Allocation"
   ]
  },
  {
   "cell_type": "code",
   "execution_count": 100,
   "id": "54a1ee60",
   "metadata": {},
   "outputs": [],
   "source": [
    "''' downloading data and forming dataframe of all four chosen ETFs'''\n",
    "symbols = [\"VOO\",\"TLT\",\"VCIT\",\"REZ\"]\n",
    "asset_data = download_etfs(symbols, \"stooq\",\"2011-01-01\",\"2021-10-31\")"
   ]
  },
  {
   "cell_type": "code",
   "execution_count": 101,
   "id": "358c78fc",
   "metadata": {},
   "outputs": [
    {
     "data": {
      "image/png": "[encoded data removed]",
      "text/plain": [
       "<Figure size 720x360 with 1 Axes>"
      ]
     },
     "metadata": {
      "needs_background": "light"
     },
     "output_type": "display_data"
    }
   ],
   "source": [
    "\n",
    "(asset_data / asset_data.iloc[0] * 100).plot(figsize=(10, 5))\n",
    "plt.title('Asset Prices from 2011-2021')\n",
    "plt.xlabel('Year')\n",
    "plt.ylabel('Prices')\n",
    "plt.show()\n"
   ]
  },
  {
   "cell_type": "code",
   "execution_count": 109,
   "id": "d5e838fe",
   "metadata": {},
   "outputs": [],
   "source": [
    "'''Calculating daily asset returns'''\n",
    "rtndf = asset_data.pct_change(1).dropna()"
   ]
  },
  {
   "cell_type": "code",
   "execution_count": 110,
   "id": "6c1024af",
   "metadata": {},
   "outputs": [],
   "source": [
    "\"\"\"MC simulations to visualize risk return of our selected ETFS\"\"\"\n",
    "def portfolio_returns(weights):\n",
    "    return (np.sum(rtndf.mean() * weights)) * 252\n",
    "\n",
    "\n",
    "\n",
    "def portfolio_sd(weights):\n",
    "    return np.sqrt(np.transpose(weights) @ (rtndf.cov() * 252) @ weights)\n",
    "\n",
    "\n",
    "\n",
    "list_portfolio_returns = []\n",
    "list_portfolio_sd = []\n",
    "# For loop to simulate 1000 random weight vectors (numpy array objects)\n",
    "for p in range(5000):\n",
    "  # Return random floats in the half-open interval [0.0, 1.0)\n",
    "    weights = np.random.random(size = 4) \n",
    "    weights /= np.sum(weights) \n",
    "    list_portfolio_returns.append(portfolio_returns(weights))\n",
    "    list_portfolio_sd.append(portfolio_sd(weights))\n",
    "  # Convert list to numpy arrays\n",
    "    port_returns = np.array(object = list_portfolio_returns)\n",
    "    port_sd = np.array(object = list_portfolio_sd)"
   ]
  },
  {
   "cell_type": "code",
   "execution_count": 111,
   "id": "901c6bba",
   "metadata": {},
   "outputs": [
    {
     "data": {
      "text/plain": [
       "Text(0, 0.5, 'Expected Portfolio  Return')"
      ]
     },
     "execution_count": 111,
     "metadata": {},
     "output_type": "execute_result"
    },
    {
     "data": {
      "image/png": "[encoded data removed]",
      "text/plain": [
       "<Figure size 432x288 with 1 Axes>"
      ]
     },
     "metadata": {
      "needs_background": "light"
     },
     "output_type": "display_data"
    }
   ],
   "source": [
    "## Visualzing the MC simulation\n",
    "\n",
    "plt.figure()\n",
    "plt.plot(port_sd,port_returns,'x')\n",
    "plt.title(\"Simulation of risk and return of ETFs\")\n",
    "plt.xlabel('Expected Portfolio Volatility')\n",
    "plt.ylabel('Expected Portfolio  Return')"
   ]
  },
  {
   "cell_type": "code",
   "execution_count": 112,
   "id": "86eeb614",
   "metadata": {},
   "outputs": [
    {
     "name": "stdout",
     "output_type": "stream",
     "text": [
      "[0.3756042  0.31993886 0.30445694 0.        ]\n",
      "Return of maximum sharpe ratio portfolio is: 9.685796104551999\n",
      "Volaitlity of maximum sharpe ratio portfolio is: 6.944696909804591\n"
     ]
    }
   ],
   "source": [
    "## Maximum Sharpe ratio Portfolio\n",
    "def sharpe_fun(weights):\n",
    "    return - (portfolio_returns(weights) / portfolio_sd(weights))\n",
    "\n",
    "constraint = ({'type': 'eq', 'fun': lambda x: np.sum(x) - 1})\n",
    "\n",
    "bounds = tuple((0, 1) for w in weights)\n",
    "\n",
    "equal_weights = np.array([1 / 4] * 4)\n",
    "\n",
    "max_sr_port = minimize(fun = sharpe_fun, x0 = equal_weights, method = 'SLSQP',\n",
    "                              bounds = bounds, constraints = constraint)\n",
    "\n",
    "\n",
    "\n",
    "\n",
    "\n",
    "##Weights for max sharpe ratio portfolio\n",
    "sr_wgts = max_sr_port[\"x\"]\n",
    "print(sr_wgts)\n",
    "## MAximum sharpe ratio portfolio \n",
    "## Expected return and volatility of Maximum sharpe ratio portfolio\n",
    "max_sr_rtn = portfolio_returns(max_sr_port[\"x\"])\n",
    "print(\"Return of maximum sharpe ratio portfolio is: {}\".format(max_sr_rtn*100))\n",
    "max_sr_sd = portfolio_sd(max_sr_port[\"x\"])\n",
    "print(\"Volaitlity of maximum sharpe ratio portfolio is: {}\".format(max_sr_sd*100))\n"
   ]
  },
  {
   "cell_type": "markdown",
   "id": "242dc4b1",
   "metadata": {},
   "source": [
    "Maximum sharpe ratio portfolio is the portfolio that gives highest risk adjusted returns. Four our portfolio, max sharpe ratio portfolio allocates 38% weight to Us stocks, 32% to treausry bonds and 30% to corporate bonds, zero allocation to real estate etfs."
   ]
  },
  {
   "cell_type": "code",
   "execution_count": 113,
   "id": "859cb223",
   "metadata": {},
   "outputs": [
    {
     "name": "stdout",
     "output_type": "stream",
     "text": [
      "[0.06871426 0.         0.93128574 0.        ]\n",
      "Return of minimum variance portfolio is: 5.59338042586884\n",
      "Volatiltiy of minimum variance portfolio is: 5.082515605096707\n"
     ]
    }
   ],
   "source": [
    "## Minimum Variance Portfolio\n",
    "min_var = minimize(fun = portfolio_sd,  x0 = equal_weights, method = 'SLSQP',\n",
    "                       bounds = bounds, constraints = constraint)\n",
    "\n",
    "##Weights for minimum variance portfolio\n",
    "mv_wgts = min_var[\"x\"]\n",
    "print(mv_wgts)\n",
    "## MAximum sharpe ratio portfolio \n",
    "## Expected return and volatility of Maximum sharpe ratio portfolio\n",
    "mv_rtn = portfolio_returns(min_var[\"x\"])\n",
    "print(\"Return of minimum variance portfolio is: {}\".format(mv_rtn*100))\n",
    "mv_sd = portfolio_sd(min_var[\"x\"])\n",
    "print(\"Volatiltiy of minimum variance portfolio is: {}\".format(mv_sd*100))"
   ]
  },
  {
   "cell_type": "markdown",
   "id": "0110fe9f",
   "metadata": {},
   "source": [
    "Minimum variance portfolio is the best return portfolio with minimum risk. Our minimum variance portfolio will be achieved when we allocate 7% to stocks and 93% to corporate bond etfs"
   ]
  },
  {
   "cell_type": "code",
   "execution_count": 114,
   "id": "5c55e951",
   "metadata": {},
   "outputs": [],
   "source": [
    "## Efficent Frontier\n",
    "constraints = ({'type': 'eq', 'fun': lambda x: portfolio_returns(x) - target}, \n",
    "               {'type': 'eq', 'fun': lambda x: np.sum(x) - 1})\n",
    "bounds = tuple( (0, 1) for w in weights)\n",
    "# Initialize an array of target returns\n",
    "target = np.linspace(start = 0.01, stop = 0.15,num = 100)\n",
    "obj_sd = []\n",
    "for target in target:\n",
    "    min_result_object = minimize(fun = portfolio_sd, x0 = equal_weights, method = 'SLSQP',\n",
    "                                   bounds = bounds, constraints = constraints)\n",
    "    obj_sd.append(min_result_object['fun'])\n",
    "    \n",
    "\n",
    "obj_sd = np.array(obj_sd)\n",
    "\n",
    "target = np.linspace(start = 0.01, stop = 0.15,num = 100)\n",
    "\n",
    "\n",
    "ef = pd.DataFrame({'x':target, 'y':obj_sd})"
   ]
  },
  {
   "cell_type": "code",
   "execution_count": 118,
   "id": "49cdd4cb",
   "metadata": {},
   "outputs": [
    {
     "data": {
      "text/plain": [
       "[<matplotlib.lines.Line2D at 0x19c728d5670>]"
      ]
     },
     "execution_count": 118,
     "metadata": {},
     "output_type": "execute_result"
    },
    {
     "data": {
      "image/png": "[encoded data removed]",
      "text/plain": [
       "<Figure size 432x288 with 1 Axes>"
      ]
     },
     "metadata": {
      "needs_background": "light"
     },
     "output_type": "display_data"
    }
   ],
   "source": [
    "plt.figure()\n",
    "plt.plot(port_sd,port_returns,'o')\n",
    "plt.title(\"Maximal sharpe ratio portoflio, Minimum variance and Efficient frontier\")\n",
    "plt.xlabel('Expected Portfolio Volatility')\n",
    "plt.ylabel('Expected Portfolio  Return')\n",
    "plt.scatter(max_sr_sd,max_sr_rtn,color=\"yellow\", marker = \"*\", s=1000)\n",
    "plt.scatter(mv_sd,mv_rtn,color=\"red\", marker = \"*\", s=1000)\n",
    "plt.plot(ef[\"y\"],ef[\"x\"])"
   ]
  },
  {
   "cell_type": "markdown",
   "id": "b7e28111",
   "metadata": {},
   "source": [
    "Efficent frontier portfolios The efficient frontier is the set of optimal portfolios that offer the highest expected return for a defined level of risk or the lowest risk for a given level of expected return. Portfolios that lie below the efficient frontier are sub-optimal because they do not provide enough return for the level of risk. In the plot above all portfolios on or above red line are efficient frontier portfolios. Yellow star represents maximum sharpe ratio portfolio and red is minimum variance portfolio"
   ]
  },
  {
   "cell_type": "code",
   "execution_count": 124,
   "id": "71fa7314",
   "metadata": {},
   "outputs": [],
   "source": [
    "def mark_obj(weights,lam):\n",
    "    return  portfolio_sd(weights) - lam * (portfolio_returns(weights))\n",
    "\n",
    "constraint = ({'type': 'eq', 'fun': lambda x: np.sum(x) - 1})\n",
    "\n",
    "bounds = tuple((0, 1) for w in weights)\n",
    "\n",
    "equal_weights = np.array([1 / 4] * 4)\n",
    "\n",
    "lamgrd = np.linspace(start = 0,stop = 5, num = 100)\n",
    "obj_sd1 = []\n",
    "mark_weights = []\n",
    "for lam in lamgrd:\n",
    "    optfun = lambda x: mark_obj(x,lam)\n",
    "    mark = minimize(fun = optfun, x0 = equal_weights, method = 'SLSQP',\n",
    "                                   bounds = bounds, constraints = constraint)\n",
    "    obj_sd1.append(mark['fun'])\n",
    "    mark_weights.append((mark[\"x\"]))\n",
    "    \n",
    "    \n",
    "    \n",
    "obj_sd1 = np.array(obj_sd1)\n",
    "lamgrd = np.linspace(start = 0.1, stop = 1,num = 100)\n",
    "\n",
    "min_mark = pd.DataFrame({'lambda':lamgrd,  \"weights\": mark_weights})"
   ]
  },
  {
   "cell_type": "code",
   "execution_count": 126,
   "id": "8dac8ceb",
   "metadata": {},
   "outputs": [
    {
     "name": "stdout",
     "output_type": "stream",
     "text": [
      "   lambda                                            weights\n",
      "0   0.100  [0.06871426231426309, 0.0, 0.9312857376857369,...\n",
      "99    [0.9999999999999993, 5.342948306008566e-16, 2....\n",
      "Name: weights, dtype: object\n",
      "44    [0.69408218893234, 0.30591781106766014, 0.0, 1...\n",
      "Name: weights, dtype: object\n"
     ]
    }
   ],
   "source": [
    "\n",
    "\"\"\"Considering 100 risk aversion parameters from 0.1 to 1, 0.1 being the lowest and 1 being the highest\"\"\"\n",
    "'''Portfolio weights for most risk averse investor are '''\n",
    "print(min_mark.loc[min_mark['lambda']==0.1])\n",
    "\n",
    "print(min_mark.loc[min_mark['lambda']==1,'weights'])\n",
    "\n",
    "print(min_mark.loc[min_mark['lambda']==0.5,'weights'])\n"
   ]
  },
  {
   "cell_type": "markdown",
   "id": "b6ebf930",
   "metadata": {},
   "source": [
    "We calculated 100 portolfios for different risk levels with 0.1 being lowest and 1 being highest, basis this we calculated weights for each asset in portfolio. As we see one who wants to take minimum risk should allocate 7% to Us stocks and 93% weights to real estate etfs, these results as we see are skewed because we are currently in real estate boom market. One who wants to take maximum risk should allocate 100% assets to US stocks etfs.\n",
    "Any individual who wants to take 50% risk of capital, should allocate 70% of capital to Us stcoks and 30% to Treasury bonds and so on.\n",
    "\n",
    "## Portfolio Rebalancing\n",
    "The most common reason to rebalance a portfolio is diversification. A portfolio created using MPT- based techniques will not stay optimized over time. The compensation of any investment portfolio will naturally drift as capital markets move and certain holdings outperform others. This typically results in two adverse outcomes: (1) Portfolio risk increases as the equity portion of portfolio grows beyond its original allocation, and (2) allocations become sub-optimally mixed. To maintain the intended risk level and asset allocations, a portfolio must be periodically rebalanced back to its original targets.    When rebalancing a portfolio, you may opt to add a combination of index and thematic investments to your stock allocation. By employing one or both strategies, the key is to keep fees low and remain diversified.    \n",
    "\n",
    "   \n",
    "\n",
    "When to Rebalance a portfolio:    \n",
    "\n",
    "There is not a hard-and-fast rule on when to rebalance your portfolio. But many investors make it a habit to revisit their investment allocations annually, quarterly, or even monthly. Others decide to make changes when an asset allocation exceeds a certain threshold such as 5 percent.    \n",
    "\n",
    "   \n",
    "\n",
    "Robo-advisors for rebalancing the portfolio:    \n",
    "\n",
    "Robo advisors offer an automatic rebalancing feature. Robo-advisors rebalances a portfolio in two different ways. Target date retirement funds automatically rebalance portfolios based on your age. Robo-advisors automatically rebalance portfolios based on individual client requirements.  Although Robo-advisors provide investment advice using sophisticated algorithms, it has some disadvantages one of it is automatic rebalancing is not perfect. Asset allocation isn’t designed to be fixed; it’s intended to shift and evolve along with an investor’s risk tolerance and time horizon. Robo advisors attempt to make managing asset allocation easier through automatic rebalancing, but there are problems with that strategy. The first is the potential for returns to underwhelm. “Hyper, periodic rebalancing can force portfolios to sell winners into growing markets and not realize the holding periods required for investment participation,” says Adam Holt, CEO and founder of Philadelphia-based Asset-Map. There’s also a cost component to consider, changing the balance automatically can get expensive if it triggers transaction fees or taxable events. Also, automatic rebalancing models have yet to be tested against a large market correction. The possibility of a correction aside, automatic rebalancing can make it harder to create a customized portfolio. Automatic rebalancing may not produce the best outcomes for clients because their other assets, investments and overall financial goals are not taken into consideration. That could be a serious issue for someone whose assets aren’t centralized at a single robo advisor platform.  An automatic rebalance from a robo advisor could make you overweighted in a certain sector if it doesn’t consider all your assets   \n",
    "\n",
    "  \n",
    "\n",
    "Tax- Loss harvesting:   \n",
    "\n",
    "There are diversified ways in Robo- advisor can be used to increase returns like better diversification, better asset choosing for investors with different risk tolerances. Tax loss harvesting is implemented to maximize after tax-returns.   \n",
    "\n",
    "In common, once an investor sells a capital asset for a price that’s higher than the purchase price, the investor realizes capital gains and needs to pay tax for the capital gains. As a result, how much tax is paid effects the returns directly.   \n",
    "\n",
    "Tax Loss harvesting is a strategy of selling securities at a loss to offset a capital gains tax liability. It is an efficient way to make your investment portfolio work harder not just in generating investment returns, but by also in generating tax savings.   \n",
    "\n",
    "Tax Loss harvesting is primarily a tax deferral strategy, and its benefit depends entirely on individual circumstances, through which you can defer tax liabilities, not avoid them. So it has very little value if applied over a short investment horizon (i.e less than two years), but can be extremely valuable if executed over a long period of time. Most of all, it combines the need to respect the asset allocation constraints at any point in time with the restrictions of the tax code (i.e. wash sale rules).   \n",
    "\n",
    "   \n",
    "\n",
    " Wash Sale Rule:   \n",
    "\n",
    "Wash Sale Rule is at the core of any TLH Strategy. It disallows a loss from selling a security if a substantially identical security is purchased 30 days after or before the sale. Substantially identical security means two securities are too similar that the IRS cannot distinguish between them.   \n",
    "\n",
    "   \n",
    "\n",
    "Switch Back Strategy:  \t     \n",
    "\n",
    "Since Robo-Advisor cannot freely dispose of declined losses, the switch back strategy systematically replaces declined assets with correlated ones, that is assets which are not substantially identical for the tax code but whose returns are highly correlated to the original ones from a portfolio management perspective. That could be the case for ETFs which are in the same category but formally track different index.  In Robo-Advisor, the switch back strategy shares the same goal: maximizing a portfolio after-tax return while minimizing the negative impact of wash sales.  This strategy scans a portfolio at the end of very year during the first three years to realize losses. It can systematically sell ETFs which experienced a loss then use highly correlated ETFs to replace them. So, the losses are harvested while the optimal asset allocation and expected returns are maintained. And the harvested losses can be carried over to subsequent years to be deducted against capital gains. "
   ]
  },
  {
   "cell_type": "markdown",
   "id": "4e2ab322",
   "metadata": {},
   "source": [
    "## Extensions\n",
    "To develop our own Robo-advisor naturally, we will start by figuring out who our ideal client is, basically who will be the end user of the advisor. What are their requirements and how will your robo-advisor meet them? While learning a lot about our target demo and choosing whether our solution will be b2c, b2b, or a hybrid of both, the discovery phase also entails determining ROI objectives and making assumptions regarding technology. \n",
    "\n",
    "Before building my own Robo-advisor, we would consider a few things listed below  \n",
    "\n",
    "Determine the risk profile.  \n",
    "\n",
    "Choose an ETF portfolio on the web  \n",
    "\n",
    "Set up an automatic investment plan  \n",
    "\n",
    "Rebalance the portfolio   \n",
    "\n",
    " \n",
    "\n",
    "The following step is typically to begin developing a quick prototype and fleshing out the software's UX and UI. However, we will first establish a proof of concept before you can create a robo adviser. Because the effectiveness of the machine learning algorithms determines how everything works. \n",
    "\n",
    "Almost all investors respect certain broad qualities in a robo-advisor, including simple account creation, effective goal planning, account services, portfolio management, security features, responsive customer care, thorough education, and affordable fees. We discovered thorough goal planning tools to be one of the most crucial components of a robo-advisor, even though cost is frequently the focus. The finest robo-advisors provide us the option to simulate your goal setting, sync external accounts for a fuller financial picture, and push us to take steps that will increase your odds of achievement. Beyond that, financial circumstances of individuals will determine which robo-advisor is ideal for them. \n",
    "\n",
    "The Robo adviser will increase the effectiveness of our distribution whether we are selling exchange-traded funds (ETFs), mutual funds, or single lines of private equity or bonds. We wouldn't use the Robo questionnaire to ask questions; instead, give investors some straightforward advise in the form of text or videos to help them understand. Insights from the audience may be measured rapidly to see where the process fell short. Not more than 30 questions will be asked. Simple guidance in the form of writing or videos could help investors grasp our question, as we put it. Insights from the audience may be measured rapidly to see where the process fell short. \n",
    "\n",
    "Let us analyze some steps and our ideas on building a Robo-advisor  \n",
    "\n",
    "Data Collection  \n",
    "\n",
    "Calculate the capital weighted equilibrium excess return  \n",
    "\n",
    "Predict investors subjective views by ARIMA model  \n",
    "\n",
    "Combine the views from ARIMA model and Research Affiliate  \n",
    "\n",
    "Use Black-Litterman model to calculate the combined expected return and covariance matrix  \n",
    "\n",
    "Use mean-variance optimization to calculate optimal weights  \n",
    "\n",
    "Do the rebalance based on strategy we discussed before  \n",
    "\n",
    "Generate the portfolio back-testing result and perform analysis  \n",
    "\n",
    "  \n",
    "\n",
    "Black-Litterman Model:  \n",
    "\n",
    "The Black-Litterman (BL) Model is an analytical tool used by portfolio managers to optimize asset allocation within an investor’s risk tolerance and market views. The BL model starts from a neutral position using modern portfolio theory (MPT), and then takes additional input from investors' views to determine how the ultimate asset allocation should deviate from the initial portfolio weights. It then undergoes a process of mean-variance optimization (MVO) to maximize expected return given one's objective risk tolerance. \n",
    "\n",
    "ARIMA Model:   \n",
    "\n",
    "ARIMA stands for Autoregressive Integrated moving average. A statistical model is autoregressive if it predicts future values based on past values. ARIMA makes use of lagged moving averages to smooth time series data. Autoregressive models implicitly assume that the future will resemble the past. Therefore, they can prove inaccurate under certain market conditions, such as financial crises or periods of rapid technological change. An ARIMA model is usually states as ARIMA (p, d, q) where p represents the order of the autoregressive components, d stands for the number of differencing times, and q stands for the highest order of the moving average term."
   ]
  }
 ],
 "metadata": {
  "kernelspec": {
   "display_name": "Python 3 (ipykernel)",
   "language": "python",
   "name": "python3"
  },
  "language_info": {
   "codemirror_mode": {
    "name": "ipython",
    "version": 3
   },
   "file_extension": ".py",
   "mimetype": "text/x-python",
   "name": "python",
   "nbconvert_exporter": "python",
   "pygments_lexer": "ipython3",
   "version": "3.9.12"
  }
 },
 "nbformat": 4,
 "nbformat_minor": 5
}
