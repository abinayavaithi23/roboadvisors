{
  "nbformat": 4,
  "nbformat_minor": 0,
  "metadata": {
    "colab": {
      "provenance": [],
      "authorship_tag": "ABX9TyNA1iMM/wqCxYlaKHl6Y6Gd",
      "include_colab_link": true
    },
    "kernelspec": {
      "name": "python3",
      "display_name": "Python 3"
    },
    "language_info": {
      "name": "python"
    }
  },
  "cells": [
    {
      "cell_type": "markdown",
      "metadata": {
        "id": "view-in-github",
        "colab_type": "text"
      },
      "source": [
        "<a href=\"https://colab.research.google.com/github/abinayavaithi23/roboadvisors/blob/main/tracking%20error%20test.ipynb\" target=\"_parent\"><img src=\"https://colab.research.google.com/assets/colab-badge.svg\" alt=\"Open In Colab\"/></a>"
      ]
    },
    {
      "cell_type": "code",
      "execution_count": 2,
      "metadata": {
        "id": "ucVy5yEnwG8p"
      },
      "outputs": [],
      "source": [
        "# Initial risk statistics example\n",
        "import pandas_datareader.data as web \n",
        "import pandas as pd \n",
        "import matplotlib.pyplot as plt \n",
        "import numpy as np \n",
        "\n",
        "def download_etf(symbol,source,start_date='2010-01-01',end_date='2022-10-01'):  \n",
        "    '''\n",
        "    symbol: \"DJUSRE\",   \n",
        "    source: \"stooq\",    \n",
        "    start_date: ... \n",
        "    end_date: ... \n",
        "\n",
        "    return: data (pd.DataFrame)\n",
        "    '''\n",
        "    data = web.DataReader(symbol,source,start=start_date,end=end_date) \n",
        "    data = data.sort_index() \n",
        "\n",
        "    return data \n",
        "\n",
        "def download_etfs(symbols,source,start_date='2010-01-01',end_date='2022-10-01'):  \n",
        "    '''\n",
        "    symbols is a list of ETF symbols\n",
        "\n",
        "    symbols = ['REZ','ICF','VNQ','JPRE','IYR'] \n",
        "    '''\n",
        "    \n",
        "    dfs = [] # empty list of pandas dataframes \n",
        "\n",
        "    for sym in symbols: \n",
        "        df = download_etf(sym,source,start_date=start_date,end_date=end_date)\n",
        "        tmpdf = df['Close']\n",
        "        dfs.append(tmpdf)  \n",
        "\n",
        "    df = pd.concat(dfs,axis=1) \n",
        "    df.columns = symbols \n",
        "\n",
        "    return df\n",
        "\n",
        "\n",
        "def tracking_error(index,etf):\n",
        "       \n",
        "    n = len(index) \n",
        "\n",
        "    tracking_error = np.sqrt(sum((index - etf)**2)/(n-1))\n",
        "\n",
        "    return tracking_error\n",
        "\n",
        "    if (__name__ == \"__main__\"):\n",
        "        symbols = [\"DJUSRE\",\"REZ\",\"ICF\",\"VNQ\",\"JPRE\",\"IYR\"] \n",
        "        expense_ratios = [0.048,0.032,0.012,0.050,0.039] \n",
        "\n",
        "        source = 'stooq' \n",
        "        start_date = '2010-01-01' \n",
        "        end_date = '2022-10-01'\n",
        "    \n",
        "        data = download_etfs(symbols,source,start_date=start_date,end_date=end_date)  \n",
        "\n",
        "        rtndf = data.pct_change().dropna()\n",
        "\n",
        "    \n",
        "    djusrerez_te = tracking_error(rtndf['DJUSRE'],rtndf['REZ']) \n",
        "    djusreicf_te = tracking_error(rtndf['DJUSRE'],rtndf['ICF']) \n",
        "    djusrevnq_te = tracking_error(rtndf['DJUSRE'],rtndf['VNQ'])\n",
        "    djusrejpre_te = tracking_error(rtndf['DJUSRE'],rtndf['JPRE'])\n",
        "    djusreiyr_te = tracking_error(rtndf['DJUSRE'],rtndf['IYR'])\n",
        "    \n"
      ]
    }
  ]
}